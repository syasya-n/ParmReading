{
 "cells": [
  {
   "cell_type": "code",
   "execution_count": 6,
   "metadata": {},
   "outputs": [],
   "source": [
    "from azure.cognitiveservices.vision.face import FaceClient\n",
    "from msrest.authentication import CognitiveServicesCredentials"
   ]
  },
  {
   "cell_type": "code",
   "execution_count": 7,
   "metadata": {},
   "outputs": [],
   "source": [
    "KEY = 'bcab2e6426994c15ac02f4a320666ec5'\n",
    "ENDPOINT = 'https://face-recognition-sysya-n.cognitiveservices.azure.com' # ****.comまで\n",
    "# FaceAPIクライアントのインスタンス作成\n",
    "face_client = FaceClient(ENDPOINT, CognitiveServicesCredentials(KEY))"
   ]
  },
  {
   "cell_type": "code",
   "execution_count": 11,
   "metadata": {},
   "outputs": [],
   "source": [
    "url = 'https://techpit-market-prod.s3.amazonaws.com/uploads/part_attachment/file/286/1ace5e42-2b60-4d22-9e9a-d9cc848177bb.jpg'"
   ]
  },
  {
   "cell_type": "code",
   "execution_count": 15,
   "metadata": {},
   "outputs": [
    {
     "name": "stdout",
     "output_type": "stream",
     "text": [
      "[<azure.cognitiveservices.vision.face.models._models_py3.DetectedFace object at 0x7fa571747df0>]\n"
     ]
    }
   ],
   "source": [
    "# URL指定によって顔検出\n",
    "detected_faces = face_client.face.detect_with_url(\n",
    "    url = url, \n",
    "    return_face_attributes = ['age','gender','smile','glasses','emotion','hair']\n",
    ")\n",
    "print(detected_faces)"
   ]
  },
  {
   "cell_type": "code",
   "execution_count": 13,
   "metadata": {},
   "outputs": [
    {
     "name": "stdout",
     "output_type": "stream",
     "text": [
      "{'additional_properties': {}, 'face_id': 'a9d77ee3-eb49-46cf-96d2-3d24096c41e4', 'recognition_model': None, 'face_rectangle': <azure.cognitiveservices.vision.face.models._models_py3.FaceRectangle object at 0x7fa571747910>, 'face_landmarks': None, 'face_attributes': <azure.cognitiveservices.vision.face.models._models_py3.FaceAttributes object at 0x7fa571747940>}\n"
     ]
    }
   ],
   "source": [
    "print(detected_faces[0])"
   ]
  },
  {
   "cell_type": "code",
   "execution_count": 17,
   "metadata": {},
   "outputs": [
    {
     "name": "stdout",
     "output_type": "stream",
     "text": [
      "{'additional_properties': {}, 'age': 30.0, 'gender': <Gender.female: 'female'>, 'smile': 0.522, 'facial_hair': None, 'glasses': <GlassesType.no_glasses: 'noGlasses'>, 'head_pose': None, 'emotion': <azure.cognitiveservices.vision.face.models._models_py3.Emotion object at 0x7fa571747c10>, 'hair': <azure.cognitiveservices.vision.face.models._models_py3.Hair object at 0x7fa571747730>, 'makeup': None, 'occlusion': None, 'accessories': None, 'blur': None, 'exposure': None, 'noise': None}\n"
     ]
    }
   ],
   "source": [
    "print(detected_faces[0].face_attributes)"
   ]
  },
  {
   "cell_type": "code",
   "execution_count": 18,
   "metadata": {},
   "outputs": [
    {
     "name": "stdout",
     "output_type": "stream",
     "text": [
      "[<azure.cognitiveservices.vision.face.models._models_py3.DetectedFace object at 0x7fa571772a00>]\n"
     ]
    }
   ],
   "source": [
    "with open('img/Audrey_Hepburn_in_Charade_4.jpg', 'rb') as image:\n",
    "    detected_faces_2 = face_client.face.detect_with_stream(\n",
    "        image, \n",
    "        return_face_attributes = ['age','gender','smile','glasses','emotion','hair']\n",
    "    )\n",
    "print(detected_faces_2)"
   ]
  },
  {
   "cell_type": "code",
   "execution_count": 19,
   "metadata": {},
   "outputs": [
    {
     "name": "stdout",
     "output_type": "stream",
     "text": [
      "{'additional_properties': {}, 'face_id': '0efd78db-14cc-4bbe-aef3-05f024b81a15', 'recognition_model': None, 'face_rectangle': <azure.cognitiveservices.vision.face.models._models_py3.FaceRectangle object at 0x7fa5717721f0>, 'face_landmarks': None, 'face_attributes': <azure.cognitiveservices.vision.face.models._models_py3.FaceAttributes object at 0x7fa5717729a0>}\n",
      "{'additional_properties': {}, 'age': 33.0, 'gender': <Gender.female: 'female'>, 'smile': 0.0, 'facial_hair': None, 'glasses': <GlassesType.no_glasses: 'noGlasses'>, 'head_pose': None, 'emotion': <azure.cognitiveservices.vision.face.models._models_py3.Emotion object at 0x7fa571772370>, 'hair': <azure.cognitiveservices.vision.face.models._models_py3.Hair object at 0x7fa5717726d0>, 'makeup': None, 'occlusion': None, 'accessories': None, 'blur': None, 'exposure': None, 'noise': None}\n"
     ]
    }
   ],
   "source": [
    "print(detected_faces_2[0])\n",
    "print(detected_faces_2[0].face_attributes)"
   ]
  },
  {
   "cell_type": "code",
   "execution_count": 20,
   "metadata": {},
   "outputs": [],
   "source": [
    "face_id_1 = detected_faces[0].face_id\n",
    "face_id_2 = detected_faces_2[0].face_id"
   ]
  },
  {
   "cell_type": "code",
   "execution_count": 21,
   "metadata": {},
   "outputs": [
    {
     "name": "stdout",
     "output_type": "stream",
     "text": [
      "{'additional_properties': {}, 'is_identical': True, 'confidence': 0.65296}\n"
     ]
    }
   ],
   "source": [
    "# 2つの顔が同じ人物かどうか判定する\n",
    "verified = face_client.face.verify_face_to_face(face_id_1, face_id_2)\n",
    "print(verified)"
   ]
  },
  {
   "cell_type": "code",
   "execution_count": 56,
   "metadata": {},
   "outputs": [],
   "source": [
    "# Person GroupのIDを指定\n",
    "person_group_id = 'comedian'"
   ]
  },
  {
   "cell_type": "code",
   "execution_count": 57,
   "metadata": {},
   "outputs": [
    {
     "ename": "APIErrorException",
     "evalue": "(PersonGroupExists) Person group 'comedian' already exists.",
     "output_type": "error",
     "traceback": [
      "\u001b[0;31m---------------------------------------------------------------------------\u001b[0m",
      "\u001b[0;31mAPIErrorException\u001b[0m                         Traceback (most recent call last)",
      "\u001b[0;32m<ipython-input-57-8325d51f2f67>\u001b[0m in \u001b[0;36m<module>\u001b[0;34m\u001b[0m\n\u001b[1;32m      1\u001b[0m \u001b[0;31m# moviestarsというグループを作成する\u001b[0m\u001b[0;34m\u001b[0m\u001b[0;34m\u001b[0m\u001b[0;34m\u001b[0m\u001b[0m\n\u001b[0;32m----> 2\u001b[0;31m face_client.person_group.create(\n\u001b[0m\u001b[1;32m      3\u001b[0m     \u001b[0mperson_group_id\u001b[0m\u001b[0;34m,\u001b[0m\u001b[0;34m\u001b[0m\u001b[0;34m\u001b[0m\u001b[0m\n\u001b[1;32m      4\u001b[0m     \u001b[0mname\u001b[0m\u001b[0;34m=\u001b[0m\u001b[0;34m'Person Group for LINE Bot'\u001b[0m\u001b[0;34m\u001b[0m\u001b[0;34m\u001b[0m\u001b[0m\n\u001b[1;32m      5\u001b[0m )\n",
      "\u001b[0;32m~/opt/anaconda3/lib/python3.8/site-packages/azure/cognitiveservices/vision/face/operations/_person_group_operations.py\u001b[0m in \u001b[0;36mcreate\u001b[0;34m(self, person_group_id, name, user_data, recognition_model, custom_headers, raw, **operation_config)\u001b[0m\n\u001b[1;32m    127\u001b[0m \u001b[0;34m\u001b[0m\u001b[0m\n\u001b[1;32m    128\u001b[0m         \u001b[0;32mif\u001b[0m \u001b[0mresponse\u001b[0m\u001b[0;34m.\u001b[0m\u001b[0mstatus_code\u001b[0m \u001b[0;32mnot\u001b[0m \u001b[0;32min\u001b[0m \u001b[0;34m[\u001b[0m\u001b[0;36m200\u001b[0m\u001b[0;34m]\u001b[0m\u001b[0;34m:\u001b[0m\u001b[0;34m\u001b[0m\u001b[0;34m\u001b[0m\u001b[0m\n\u001b[0;32m--> 129\u001b[0;31m             \u001b[0;32mraise\u001b[0m \u001b[0mmodels\u001b[0m\u001b[0;34m.\u001b[0m\u001b[0mAPIErrorException\u001b[0m\u001b[0;34m(\u001b[0m\u001b[0mself\u001b[0m\u001b[0;34m.\u001b[0m\u001b[0m_deserialize\u001b[0m\u001b[0;34m,\u001b[0m \u001b[0mresponse\u001b[0m\u001b[0;34m)\u001b[0m\u001b[0;34m\u001b[0m\u001b[0;34m\u001b[0m\u001b[0m\n\u001b[0m\u001b[1;32m    130\u001b[0m \u001b[0;34m\u001b[0m\u001b[0m\n\u001b[1;32m    131\u001b[0m         \u001b[0;32mif\u001b[0m \u001b[0mraw\u001b[0m\u001b[0;34m:\u001b[0m\u001b[0;34m\u001b[0m\u001b[0;34m\u001b[0m\u001b[0m\n",
      "\u001b[0;31mAPIErrorException\u001b[0m: (PersonGroupExists) Person group 'comedian' already exists."
     ]
    }
   ],
   "source": [
    "# moviestarsというグループを作成する\n",
    "face_client.person_group.create(\n",
    "    person_group_id,\n",
    "    name='Person Group for LINE Bot'\n",
    ")"
   ]
  },
  {
   "cell_type": "code",
   "execution_count": 55,
   "metadata": {},
   "outputs": [
    {
     "name": "stdout",
     "output_type": "stream",
     "text": [
      "{'additional_properties': {}, 'name': 'Person Group for LINE Bot', 'user_data': None, 'recognition_model': None, 'person_group_id': 'comedian'}\n"
     ]
    }
   ],
   "source": [
    "# person groupを確認\n",
    "comedians = face_client.person_group.get(person_group_id)\n",
    "print(comedians)"
   ]
  },
  {
   "cell_type": "code",
   "execution_count": 47,
   "metadata": {},
   "outputs": [],
   "source": [
    "# オードリーヘップバーンの名前を登録\n",
    "zakoshi_name = 'HallyWood zakoshisyou'"
   ]
  },
  {
   "cell_type": "code",
   "execution_count": 48,
   "metadata": {},
   "outputs": [
    {
     "name": "stdout",
     "output_type": "stream",
     "text": [
      "{'additional_properties': {}, 'name': None, 'user_data': None, 'person_id': '0390ed58-3d2a-4d73-bab4-d229671b9528', 'persisted_face_ids': None}\n"
     ]
    }
   ],
   "source": [
    "# Personを登録\n",
    "zakoshi = face_client.person_group_person.create(\n",
    "    person_group_id = comedians.person_group_id, # PersonGroupのIDを指定\n",
    "    name = zakoshi_name # 登録するPersonの名前を指定\n",
    ")\n",
    "print(zakoshi)"
   ]
  },
  {
   "cell_type": "code",
   "execution_count": 59,
   "metadata": {},
   "outputs": [
    {
     "name": "stdout",
     "output_type": "stream",
     "text": [
      "{'additional_properties': {}, 'persisted_face_id': '8b356314-c7cb-4217-b80c-17e1069aed2b', 'user_data': None}\n"
     ]
    }
   ],
   "source": [
    "# url指定でオードリーヘップバーンの顔写真をPersonに紐づける\n",
    "with open('img/zakoshi1.jpeg', 'rb') as image:\n",
    "    zakoshi_face_1 = face_client.person_group_person.add_face_from_stream(\n",
    "        person_group_id = comedians.person_group_id,\n",
    "        person_id = zakoshi.person_id,\n",
    "        image = image\n",
    "    )\n",
    "print(zakoshi_face_1)"
   ]
  },
  {
   "cell_type": "code",
   "execution_count": 60,
   "metadata": {},
   "outputs": [
    {
     "name": "stdout",
     "output_type": "stream",
     "text": [
      "{'additional_properties': {}, 'persisted_face_id': 'e2b45e35-f3e3-41aa-bcec-3c7f9f89b66f', 'user_data': None}\n"
     ]
    }
   ],
   "source": [
    "# 画像送信でオードリーヘップバーンの顔写真をPersonに紐づける\n",
    "with open('img/zakoshi2.jpeg', 'rb') as image:\n",
    "    zakoshi_face_2 = face_client.person_group_person.add_face_from_stream(\n",
    "        person_group_id = comedians.person_group_id,\n",
    "        person_id = zakoshi.person_id,\n",
    "        image = image\n",
    "    )\n",
    "print(zakoshi_face_2)"
   ]
  },
  {
   "cell_type": "code",
   "execution_count": 63,
   "metadata": {},
   "outputs": [
    {
     "name": "stdout",
     "output_type": "stream",
     "text": [
      "{'additional_properties': {}, 'name': 'HallyWood zakoshisyou', 'user_data': None, 'person_id': '0390ed58-3d2a-4d73-bab4-d229671b9528', 'persisted_face_ids': []}\n"
     ]
    }
   ],
   "source": [
    "print(zakoshi)"
   ]
  },
  {
   "cell_type": "code",
   "execution_count": 64,
   "metadata": {},
   "outputs": [
    {
     "name": "stdout",
     "output_type": "stream",
     "text": [
      "{'additional_properties': {}, 'name': 'HallyWood zakoshisyou', 'user_data': None, 'person_id': '0390ed58-3d2a-4d73-bab4-d229671b9528', 'persisted_face_ids': ['89f91ee9-ba7e-43f8-977c-7cebe0d01834', '8b356314-c7cb-4217-b80c-17e1069aed2b', 'e2b45e35-f3e3-41aa-bcec-3c7f9f89b66f']}\n"
     ]
    }
   ],
   "source": [
    "# PersonGroupPerson get で最新のPerson情報を取得する\n",
    "zakoshi = face_client.person_group_person.get(\n",
    "        person_group_id = comedians.person_group_id,\n",
    "        person_id = zakoshi.person_id\n",
    "    )\n",
    "print(zakoshi)"
   ]
  },
  {
   "cell_type": "code",
   "execution_count": 65,
   "metadata": {},
   "outputs": [],
   "source": [
    "# 検証用の画像の取得\n",
    "url = 'https://techpit-market-prod.s3.amazonaws.com/uploads/part_attachment/file/298/51500494-51a6-4513-bbf0-fe4f3a84e0b8.jpg'"
   ]
  },
  {
   "cell_type": "code",
   "execution_count": 66,
   "metadata": {},
   "outputs": [
    {
     "name": "stdout",
     "output_type": "stream",
     "text": [
      "{'additional_properties': {}, 'face_id': '2d51ee7f-1b9a-4612-a674-ffa7c34a327c', 'recognition_model': None, 'face_rectangle': <azure.cognitiveservices.vision.face.models._models_py3.FaceRectangle object at 0x7fa571772d90>, 'face_landmarks': None, 'face_attributes': None}\n"
     ]
    }
   ],
   "source": [
    "# 検証用の顔検出\n",
    "detected_faces_3 = face_client.face.detect_with_url(url)\n",
    "print(detected_faces_3[0])"
   ]
  },
  {
   "cell_type": "code",
   "execution_count": 67,
   "metadata": {},
   "outputs": [
    {
     "name": "stdout",
     "output_type": "stream",
     "text": [
      "{'additional_properties': {}, 'is_identical': False, 'confidence': 0.08749}\n"
     ]
    }
   ],
   "source": [
    "# personとfaceの比較\n",
    "verified = face_client.face.verify_face_to_person(\n",
    "    face_id = detected_faces_3[0].face_id,\n",
    "    person_group_id = comedians.person_group_id,\n",
    "    person_id = zakoshi.person_id\n",
    ")\n",
    "print(verified)"
   ]
  }
 ],
 "metadata": {
  "kernelspec": {
   "display_name": "Python 3",
   "language": "python",
   "name": "python3"
  },
  "language_info": {
   "codemirror_mode": {
    "name": "ipython",
    "version": 3
   },
   "file_extension": ".py",
   "mimetype": "text/x-python",
   "name": "python",
   "nbconvert_exporter": "python",
   "pygments_lexer": "ipython3",
   "version": "3.8.5"
  }
 },
 "nbformat": 4,
 "nbformat_minor": 4
}
